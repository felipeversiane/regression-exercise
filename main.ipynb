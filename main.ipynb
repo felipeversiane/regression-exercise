{
 "cells": [
  {
   "cell_type": "markdown",
   "metadata": {},
   "source": [
    "### Exercicio 1 - Inteligencia Artificial\n",
    "\n"
   ]
  },
  {
   "cell_type": "markdown",
   "metadata": {},
   "source": [
    "##### Adicionando dependencias e importações"
   ]
  },
  {
   "cell_type": "code",
   "execution_count": 14,
   "metadata": {},
   "outputs": [],
   "source": [
    "import pandas as pd\n",
    "import requests \n",
    "import numpy as np\n",
    "import matplotlib.pyplot as plt\n",
    "from sklearn.model_selection import train_test_split\n",
    "from sklearn.linear_model import LinearRegression\n",
    "from sklearn.metrics import mean_squared_error, r2_score\n",
    "from sklearn.preprocessing import OneHotEncoder\n",
    "from requests.packages.urllib3.exceptions import InsecureRequestWarning\n"
   ]
  },
  {
   "cell_type": "markdown",
   "metadata": {},
   "source": [
    "#### Coletando dados"
   ]
  },
  {
   "cell_type": "code",
   "execution_count": 15,
   "metadata": {},
   "outputs": [],
   "source": [
    "url = \"https://barramento.ifg.edu.br/ifg_barramento_ws/ws/252\"\n",
    "requests.packages.urllib3.disable_warnings(InsecureRequestWarning)\n",
    "\n",
    "column_names = [\n",
    "    \"Campus\",\n",
    "    \"Ano de Ingresso\",\n",
    "    \"Período Letivo\",\n",
    "    \"Curso\",\n",
    "    \"Modalidade\",\n",
    "    \"Presencial/Distância\",\n",
    "    \"Sexo\",\n",
    "    \"Nível\",\n",
    "    \"Renda per Capita\",\n",
    "    \"Etnia\",\n",
    "    \"Ano de Nascimento\",\n",
    "    \"Situação\"\n",
    "]\n",
    "\n",
    "try:\n",
    "    response = requests.get(url, verify=False)\n",
    "    response.raise_for_status()\n",
    "\n",
    "    data = response.json()\n",
    "\n",
    "    processed_data = []\n",
    "    for item in data:\n",
    "        row = [sub_item[\"valor\"] for sub_item in item[\"itens\"]]\n",
    "        processed_data.append(row)\n",
    "\n",
    "    df = pd.DataFrame(processed_data, columns=column_names)\n",
    "\n",
    "    output_path = 'data/data.csv'\n",
    "    df.to_csv(output_path, index=False)\n",
    "except requests.exceptions.RequestException as e:\n",
    "    print(f\"Erro na requisição: {e}\")\n",
    "except ValueError as e:\n",
    "    print(f\"Erro ao processar os dados: {e}\")"
   ]
  },
  {
   "cell_type": "markdown",
   "metadata": {},
   "source": [
    "#### Pré-processando os dados"
   ]
  },
  {
   "cell_type": "code",
   "execution_count": 19,
   "metadata": {},
   "outputs": [],
   "source": [
    "def pre_process(df):\n",
    "    \"\"\"\n",
    "    Trata valores nulos em um DataFrame automaticamente:\n",
    "    - Numéricos: preenche com a média.\n",
    "    - Categóricos: preenche com 'Desconhecido'.\n",
    "    - Se a coluna tiver apenas dois valores únicos, substitui por 0 e 1.\n",
    "    \"\"\"\n",
    "    for coluna in df.columns:\n",
    "        if df[coluna].dtype in [\"float64\", \"int64\"]:  \n",
    "            df[coluna] = df[coluna].fillna(df[coluna].mean())  \n",
    "        elif df[coluna].dtype == \"object\":\n",
    "            if df[coluna].nunique() == 2:\n",
    "                valores = df[coluna].unique()\n",
    "                df[coluna] = df[coluna].map({valores[0]: 0, valores[1]: 1}).fillna(df[coluna])\n",
    "            else:\n",
    "                df[coluna] = df[coluna].fillna(\"Desconhecido\")  \n",
    "    return df\n",
    "\n",
    "df = pre_process(df)\n"
   ]
  },
  {
   "cell_type": "markdown",
   "metadata": {},
   "source": [
    "#### Pós-processamento e transformação"
   ]
  },
  {
   "cell_type": "code",
   "execution_count": 20,
   "metadata": {},
   "outputs": [],
   "source": [
    "def onehotencoder(df, colunas_categoricas):\n",
    "    \"\"\"\n",
    "    Aplica OneHotEncoding às colunas categóricas especificadas no DataFrame.\n",
    "    \n",
    "    Parâmetros:\n",
    "        df (pd.DataFrame): O DataFrame original.\n",
    "        colunas_categoricas (list): Lista de nomes de colunas categóricas a serem transformadas.\n",
    "        \n",
    "    Retorno:\n",
    "        pd.DataFrame: Um novo DataFrame com as colunas categóricas codificadas e as demais mantidas.\n",
    "    \"\"\"\n",
    "    \n",
    "    encoder = OneHotEncoder(handle_unknown=\"ignore\", sparse_output=False, drop=\"first\")  \n",
    "    \n",
    "    encoded_arrays = encoder.fit_transform(df[colunas_categoricas])\n",
    "    \n",
    "    encoded_df = pd.DataFrame(\n",
    "        encoded_arrays,\n",
    "        columns=encoder.get_feature_names_out(colunas_categoricas),\n",
    "        index=df.index\n",
    "    )\n",
    "    \n",
    "    df = df.drop(columns=colunas_categoricas)\n",
    "    df = pd.concat([df, encoded_df], axis=1)\n",
    "    \n",
    "    return df\n",
    "\n",
    "colunas_categoricas = []\n",
    "df = onehotencoder(df, colunas_categoricas)"
   ]
  },
  {
   "cell_type": "markdown",
   "metadata": {},
   "source": [
    "#### Aplicação de modelos de regressão"
   ]
  },
  {
   "cell_type": "code",
   "execution_count": null,
   "metadata": {},
   "outputs": [],
   "source": [
    "X = df.drop(columns=[\"Renda per Capita\"])\n",
    "y = df[\"Renda per Capita\"]\n",
    "\n",
    "X_train, X_test, y_train, y_test = train_test_split(X, y, test_size=0.2, random_state=42)\n",
    "\n",
    "model = LinearRegression()\n",
    "model.fit(X_train, y_train)\n",
    "\n",
    "y_pred = model.predict(X_test)\n",
    "\n",
    "mse = mean_squared_error(y_test, y_pred)\n",
    "r2 = r2_score(y_test, y_pred)\n",
    "\n",
    "print(\"\\nAvaliação do Modelo:\")\n",
    "print(f\"MSE: {mse:.2f}, R2: {r2:.2f}\")"
   ]
  },
  {
   "cell_type": "markdown",
   "metadata": {},
   "source": [
    "#### Plots e insights"
   ]
  },
  {
   "cell_type": "code",
   "execution_count": null,
   "metadata": {},
   "outputs": [],
   "source": []
  }
 ],
 "metadata": {
  "kernelspec": {
   "display_name": "Python 3",
   "language": "python",
   "name": "python3"
  },
  "language_info": {
   "codemirror_mode": {
    "name": "ipython",
    "version": 3
   },
   "file_extension": ".py",
   "mimetype": "text/x-python",
   "name": "python",
   "nbconvert_exporter": "python",
   "pygments_lexer": "ipython3",
   "version": "3.12.0"
  }
 },
 "nbformat": 4,
 "nbformat_minor": 2
}
