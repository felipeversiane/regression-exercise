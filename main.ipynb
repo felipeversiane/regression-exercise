{
 "cells": [
  {
   "cell_type": "markdown",
   "metadata": {},
   "source": [
    "### Exercicio 1 - Inteligencia Artificial\n",
    "\n"
   ]
  },
  {
   "cell_type": "markdown",
   "metadata": {},
   "source": [
    "##### Adicionando dependencias e importações"
   ]
  },
  {
   "cell_type": "code",
   "execution_count": 14,
   "metadata": {},
   "outputs": [],
   "source": [
    "import pandas as pd\n",
    "import requests \n",
    "import numpy as np\n",
    "import matplotlib.pyplot as plt\n",
    "from sklearn.model_selection import train_test_split\n",
    "from sklearn.linear_model import LinearRegression\n",
    "from sklearn.metrics import mean_squared_error, r2_score\n",
    "from sklearn.preprocessing import OneHotEncoder\n",
    "from requests.packages.urllib3.exceptions import InsecureRequestWarning\n"
   ]
  },
  {
   "cell_type": "markdown",
   "metadata": {},
   "source": [
    "#### Coletando dados"
   ]
  },
  {
   "cell_type": "code",
   "execution_count": 15,
   "metadata": {},
   "outputs": [],
   "source": [
    "url = \"https://barramento.ifg.edu.br/ifg_barramento_ws/ws/252\"\n",
    "requests.packages.urllib3.disable_warnings(InsecureRequestWarning)\n",
    "\n",
    "column_names = [\n",
    "    \"Campus\",\n",
    "    \"Ano de Ingresso\",\n",
    "    \"Período Letivo\",\n",
    "    \"Curso\",\n",
    "    \"Modalidade\",\n",
    "    \"Presencial/Distância\",\n",
    "    \"Sexo\",\n",
    "    \"Nível\",\n",
    "    \"Renda per Capita\",\n",
    "    \"Etnia\",\n",
    "    \"Ano de Nascimento\",\n",
    "    \"Situação\"\n",
    "]\n",
    "\n",
    "try:\n",
    "    response = requests.get(url, verify=False)\n",
    "    response.raise_for_status()\n",
    "\n",
    "    data = response.json()\n",
    "\n",
    "    processed_data = []\n",
    "    for item in data:\n",
    "        row = [sub_item[\"valor\"] for sub_item in item[\"itens\"]]\n",
    "        processed_data.append(row)\n",
    "\n",
    "    df = pd.DataFrame(processed_data, columns=column_names)\n",
    "\n",
    "    output_path = 'data/data.csv'\n",
    "    df.to_csv(output_path, index=False)\n",
    "except requests.exceptions.RequestException as e:\n",
    "    print(f\"Erro na requisição: {e}\")\n",
    "except ValueError as e:\n",
    "    print(f\"Erro ao processar os dados: {e}\")"
   ]
  },
  {
   "cell_type": "markdown",
   "metadata": {},
   "source": [
    "#### Pré-processando os dados"
   ]
  },
  {
   "cell_type": "code",
   "execution_count": 16,
   "metadata": {},
   "outputs": [
    {
     "name": "stderr",
     "output_type": "stream",
     "text": [
      "C:\\Users\\felip\\AppData\\Local\\Temp\\ipykernel_88300\\1323206550.py:15: FutureWarning: A value is trying to be set on a copy of a DataFrame or Series through chained assignment using an inplace method.\n",
      "The behavior will change in pandas 3.0. This inplace method will never work because the intermediate object on which we are setting values always behaves as a copy.\n",
      "\n",
      "For example, when doing 'df[col].method(value, inplace=True)', try using 'df.method({col: value}, inplace=True)' or df[col] = df[col].method(value) instead, to perform the operation inplace on the original object.\n",
      "\n",
      "\n",
      "  df[coluna].fillna(\"Desconhecido\", inplace=True)\n"
     ]
    }
   ],
   "source": [
    "def pre_process(df):\n",
    "    \"\"\"\n",
    "    Trata valores nulos em um DataFrame automaticamente:\n",
    "    - Numéricos: preenche com a média.\n",
    "    - Categóricos: preenche com 'Desconhecido'.\n",
    "    - Se a coluna tiver apenas dois valores únicos, substitui por 0 e 1.\n",
    "    \"\"\"\n",
    "    for coluna in df.columns:\n",
    "        if df[coluna].dtype in [\"float64\", \"int64\"]:  \n",
    "            df[coluna].fillna(df[coluna].mean(), inplace=True)\n",
    "        elif df[coluna].dtype == \"object\":\n",
    "            if df[coluna].nunique() == 2:\n",
    "                df[coluna] = df[coluna].map({df[coluna].unique()[0]: 0, df[coluna].unique()[1]: 1}).fillna(df[coluna])\n",
    "            else:\n",
    "                df[coluna].fillna(\"Desconhecido\", inplace=True)\n",
    "    return df\n",
    "\n",
    "df = pre_process(df)"
   ]
  },
  {
   "cell_type": "markdown",
   "metadata": {},
   "source": [
    "#### Pós-processamento e transformação"
   ]
  },
  {
   "cell_type": "code",
   "execution_count": null,
   "metadata": {},
   "outputs": [
    {
     "ename": "TypeError",
     "evalue": "OneHotEncoder.__init__() got an unexpected keyword argument 'sparse'",
     "output_type": "error",
     "traceback": [
      "\u001b[1;31m---------------------------------------------------------------------------\u001b[0m",
      "\u001b[1;31mTypeError\u001b[0m                                 Traceback (most recent call last)",
      "Cell \u001b[1;32mIn[17], line 29\u001b[0m\n\u001b[0;32m     26\u001b[0m     \u001b[38;5;28;01mreturn\u001b[39;00m df\n\u001b[0;32m     28\u001b[0m colunas_categoricas \u001b[38;5;241m=\u001b[39m []\n\u001b[1;32m---> 29\u001b[0m df \u001b[38;5;241m=\u001b[39m \u001b[43monehotencoder\u001b[49m\u001b[43m(\u001b[49m\u001b[43mdf\u001b[49m\u001b[43m,\u001b[49m\u001b[43m \u001b[49m\u001b[43mcolunas_categoricas\u001b[49m\u001b[43m)\u001b[49m\n",
      "Cell \u001b[1;32mIn[17], line 13\u001b[0m, in \u001b[0;36monehotencoder\u001b[1;34m(df, colunas_categoricas)\u001b[0m\n\u001b[0;32m      1\u001b[0m \u001b[38;5;28;01mdef\u001b[39;00m \u001b[38;5;21monehotencoder\u001b[39m(df, colunas_categoricas):\n\u001b[0;32m      2\u001b[0m \u001b[38;5;250m    \u001b[39m\u001b[38;5;124;03m\"\"\"\u001b[39;00m\n\u001b[0;32m      3\u001b[0m \u001b[38;5;124;03m    Aplica OneHotEncoding às colunas categóricas especificadas no DataFrame.\u001b[39;00m\n\u001b[0;32m      4\u001b[0m \u001b[38;5;124;03m    \u001b[39;00m\n\u001b[1;32m   (...)\u001b[0m\n\u001b[0;32m     10\u001b[0m \u001b[38;5;124;03m        pd.DataFrame: Um novo DataFrame com as colunas categóricas codificadas e as demais mantidas.\u001b[39;00m\n\u001b[0;32m     11\u001b[0m \u001b[38;5;124;03m    \"\"\"\u001b[39;00m\n\u001b[1;32m---> 13\u001b[0m     encoder \u001b[38;5;241m=\u001b[39m \u001b[43mOneHotEncoder\u001b[49m\u001b[43m(\u001b[49m\u001b[43msparse\u001b[49m\u001b[38;5;241;43m=\u001b[39;49m\u001b[38;5;28;43;01mFalse\u001b[39;49;00m\u001b[43m,\u001b[49m\u001b[43m \u001b[49m\u001b[43mdrop\u001b[49m\u001b[38;5;241;43m=\u001b[39;49m\u001b[38;5;124;43m\"\u001b[39;49m\u001b[38;5;124;43mfirst\u001b[39;49m\u001b[38;5;124;43m\"\u001b[39;49m\u001b[43m)\u001b[49m  \n\u001b[0;32m     15\u001b[0m     encoded_arrays \u001b[38;5;241m=\u001b[39m encoder\u001b[38;5;241m.\u001b[39mfit_transform(df[colunas_categoricas])\n\u001b[0;32m     17\u001b[0m     encoded_df \u001b[38;5;241m=\u001b[39m pd\u001b[38;5;241m.\u001b[39mDataFrame(\n\u001b[0;32m     18\u001b[0m         encoded_arrays,\n\u001b[0;32m     19\u001b[0m         columns\u001b[38;5;241m=\u001b[39mencoder\u001b[38;5;241m.\u001b[39mget_feature_names_out(colunas_categoricas),\n\u001b[0;32m     20\u001b[0m         index\u001b[38;5;241m=\u001b[39mdf\u001b[38;5;241m.\u001b[39mindex\n\u001b[0;32m     21\u001b[0m     )\n",
      "\u001b[1;31mTypeError\u001b[0m: OneHotEncoder.__init__() got an unexpected keyword argument 'sparse'"
     ]
    }
   ],
   "source": [
    "def onehotencoder(df, colunas_categoricas):\n",
    "    \"\"\"\n",
    "    Aplica OneHotEncoding às colunas categóricas especificadas no DataFrame.\n",
    "    \n",
    "    Parâmetros:\n",
    "        df (pd.DataFrame): O DataFrame original.\n",
    "        colunas_categoricas (list): Lista de nomes de colunas categóricas a serem transformadas.\n",
    "        \n",
    "    Retorno:\n",
    "        pd.DataFrame: Um novo DataFrame com as colunas categóricas codificadas e as demais mantidas.\n",
    "    \"\"\"\n",
    "    \n",
    "    encoder = OneHotEncoder(sparse=False, drop=\"first\")  \n",
    "    \n",
    "    encoded_arrays = encoder.fit_transform(df[colunas_categoricas])\n",
    "    \n",
    "    encoded_df = pd.DataFrame(\n",
    "        encoded_arrays,\n",
    "        columns=encoder.get_feature_names_out(colunas_categoricas),\n",
    "        index=df.index\n",
    "    )\n",
    "    \n",
    "    df = df.drop(columns=colunas_categoricas)\n",
    "    df = pd.concat([df, encoded_df], axis=1)\n",
    "    \n",
    "    return df\n",
    "\n",
    "colunas_categoricas = []\n",
    "# df = onehotencoder(df, colunas_categoricas)"
   ]
  },
  {
   "cell_type": "markdown",
   "metadata": {},
   "source": [
    "#### Aplicação de modelos de regressão"
   ]
  },
  {
   "cell_type": "code",
   "execution_count": null,
   "metadata": {},
   "outputs": [],
   "source": []
  },
  {
   "cell_type": "markdown",
   "metadata": {},
   "source": [
    "#### Plots e insights"
   ]
  },
  {
   "cell_type": "code",
   "execution_count": null,
   "metadata": {},
   "outputs": [],
   "source": []
  }
 ],
 "metadata": {
  "kernelspec": {
   "display_name": "Python 3",
   "language": "python",
   "name": "python3"
  },
  "language_info": {
   "codemirror_mode": {
    "name": "ipython",
    "version": 3
   },
   "file_extension": ".py",
   "mimetype": "text/x-python",
   "name": "python",
   "nbconvert_exporter": "python",
   "pygments_lexer": "ipython3",
   "version": "3.12.0"
  }
 },
 "nbformat": 4,
 "nbformat_minor": 2
}
