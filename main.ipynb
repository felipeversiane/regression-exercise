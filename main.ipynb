{
 "cells": [
  {
   "cell_type": "markdown",
   "metadata": {},
   "source": [
    "### Exercicio 1 - Inteligencia Artificial\n",
    "\n"
   ]
  },
  {
   "cell_type": "markdown",
   "metadata": {},
   "source": [
    "##### Adicionando dependencias e importações"
   ]
  },
  {
   "cell_type": "code",
   "execution_count": 40,
   "metadata": {},
   "outputs": [],
   "source": [
    "import pandas as pd\n",
    "import re\n",
    "import requests \n",
    "import numpy as np\n",
    "import matplotlib.pyplot as plt\n",
    "from sklearn.model_selection import train_test_split\n",
    "from sklearn.linear_model import LinearRegression\n",
    "from sklearn.preprocessing import StandardScaler\n",
    "from sklearn.metrics import mean_squared_error, r2_score\n",
    "from sklearn.linear_model import ElasticNet\n",
    "from sklearn.model_selection import cross_val_predict\n",
    "from sklearn.preprocessing import OneHotEncoder\n",
    "from sklearn.ensemble import IsolationForest\n",
    "from sklearn.model_selection import GridSearchCV\n",
    "from sklearn.model_selection import cross_val_score, KFold\n",
    "from requests.packages.urllib3.exceptions import InsecureRequestWarning\n",
    "requests.packages.urllib3.disable_warnings(InsecureRequestWarning)\n"
   ]
  },
  {
   "cell_type": "markdown",
   "metadata": {},
   "source": [
    "#### Coletando dados"
   ]
  },
  {
   "cell_type": "code",
   "execution_count": 41,
   "metadata": {},
   "outputs": [],
   "source": [
    "\n",
    "column_names = [\n",
    "    \"Campus\",\n",
    "    \"Ano de Ingresso\",\n",
    "    \"Período Letivo\",\n",
    "    \"Curso\",\n",
    "    \"Modalidade\",\n",
    "    \"Presencial/Distância\",\n",
    "    \"Sexo\",\n",
    "    \"Nível\",\n",
    "    \"Renda per Capita\",\n",
    "    \"Etnia\",\n",
    "    \"Ano de Nascimento\",\n",
    "    \"Situação\"\n",
    "]\n",
    "\n",
    "column_types = {\n",
    "    \"Campus\": \"object\",\n",
    "    \"Ano de Ingresso\": \"int64\",\n",
    "    \"Período Letivo\": \"int64\",\n",
    "    \"Curso\": \"object\",\n",
    "    \"Modalidade\": \"object\",\n",
    "    \"Presencial/Distância\": \"object\",\n",
    "    \"Sexo\": \"object\",\n",
    "    \"Nível\": \"object\",\n",
    "    \"Renda per Capita\": \"object\",\n",
    "    \"Etnia\": \"object\",\n",
    "    \"Ano de Nascimento\": \"int64\",\n",
    "    \"Situação\": \"object\"\n",
    "}\n",
    "\n",
    "url = \"https://barramento.ifg.edu.br/ifg_barramento_ws/ws/252\"\n",
    "\n",
    "try:\n",
    "    response = requests.get(url, verify=False)\n",
    "    response.raise_for_status()\n",
    "\n",
    "    data = response.json()\n",
    "\n",
    "    processed_data = []\n",
    "    for item in data:\n",
    "        row = [sub_item[\"valor\"] for sub_item in item[\"itens\"]]\n",
    "        processed_data.append(row)\n",
    "\n",
    "    df = pd.DataFrame(processed_data, columns=column_names)\n",
    "\n",
    "    for column, col_type in column_types.items():\n",
    "        if col_type == \"int64\":\n",
    "            df[column] = pd.to_numeric(df[column], errors='coerce', downcast='integer')\n",
    "        elif col_type == \"float64\":\n",
    "            df[column] = pd.to_numeric(df[column], errors='coerce', downcast='float')\n",
    "        elif col_type == \"object\":\n",
    "            df[column] = df[column].astype(str)\n",
    "    \n",
    "    df.to_csv('./data/data.csv', index=False)\n",
    "\n",
    "except requests.exceptions.RequestException as e:\n",
    "    print(f\"Erro na requisição: {e}\")\n",
    "except ValueError as e:\n",
    "    print(f\"Erro ao processar os dados: {e}\")"
   ]
  },
  {
   "cell_type": "markdown",
   "metadata": {},
   "source": [
    "#### Convertendo o valor da renda per capita para numérico"
   ]
  },
  {
   "cell_type": "code",
   "execution_count": 42,
   "metadata": {},
   "outputs": [],
   "source": [
    "def convert_renda_per_capita(value):\n",
    "    if isinstance(value, str):\n",
    "        match = re.match(r\"(\\d+,\\d+|\\d+) Sm < Rfp <= (\\d+,\\d+|\\d+) Sm\", value)\n",
    "        if match:\n",
    "            lower_bound = float(match.group(1).replace(\",\", \".\"))\n",
    "            upper_bound = float(match.group(2).replace(\",\", \".\"))\n",
    "            return (lower_bound + upper_bound) / 2\n",
    "    return np.nan\n",
    "\n",
    "df[\"Renda per Capita\"] = df[\"Renda per Capita\"].apply(convert_renda_per_capita)"
   ]
  },
  {
   "cell_type": "markdown",
   "metadata": {},
   "source": [
    "#### Pré-processando os dados"
   ]
  },
  {
   "cell_type": "code",
   "execution_count": 43,
   "metadata": {},
   "outputs": [],
   "source": [
    "def pre_process(df):\n",
    "    for coluna in df.columns:\n",
    "        if df[coluna].dtype in [\"float64\", \"int64\"]:  \n",
    "            df[coluna] = df[coluna].fillna(df[coluna].mean())  \n",
    "        elif df[coluna].dtype == \"object\":\n",
    "            if df[coluna].nunique() == 2:\n",
    "                valores = df[coluna].unique()\n",
    "                df[coluna] = df[coluna].map({valores[0]: 0, valores[1]: 1}).fillna(df[coluna])\n",
    "            else:\n",
    "                df[coluna] = df[coluna].fillna(\"Desconhecido\")\n",
    "    \n",
    "    return df\n",
    "\n",
    "df = pre_process(df)\n",
    "df.to_csv('./data/processed_data.csv', index=False)\n",
    "\n"
   ]
  },
  {
   "cell_type": "markdown",
   "metadata": {},
   "source": [
    "#### Tratando outliers"
   ]
  },
  {
   "cell_type": "code",
   "execution_count": 44,
   "metadata": {},
   "outputs": [],
   "source": [
    "def remove_outliers(df):\n",
    "    isolation_forest = IsolationForest(contamination=0.05)  \n",
    "\n",
    "    numeric_columns = df.select_dtypes(include=[np.number]).columns\n",
    "    df_numeric = df[numeric_columns]\n",
    "    \n",
    "    outliers = isolation_forest.fit_predict(df_numeric)\n",
    "\n",
    "    df_cleaned = df[outliers == 1]\n",
    "    \n",
    "    return df_cleaned\n",
    "\n",
    "df = remove_outliers(df)\n",
    "df.to_csv('./data/cleaned_data.csv',index=False)\n"
   ]
  },
  {
   "cell_type": "markdown",
   "metadata": {},
   "source": [
    "#### Pós-processamento e transformação"
   ]
  },
  {
   "cell_type": "code",
   "execution_count": 45,
   "metadata": {},
   "outputs": [],
   "source": [
    "def onehotencoder(df, colunas_categoricas):\n",
    "    \n",
    "    encoder = OneHotEncoder(handle_unknown=\"ignore\", sparse_output=False, drop=\"first\")  \n",
    "    \n",
    "    encoded_arrays = encoder.fit_transform(df[colunas_categoricas])\n",
    "    \n",
    "    encoded_df = pd.DataFrame(\n",
    "        encoded_arrays,\n",
    "        columns=encoder.get_feature_names_out(colunas_categoricas),\n",
    "        index=df.index\n",
    "    )\n",
    "    \n",
    "    df = df.drop(columns=colunas_categoricas)\n",
    "    df = pd.concat([df, encoded_df], axis=1)\n",
    "    \n",
    "    return df\n",
    "\n",
    "colunas_categoricas = [\"Sexo\",\"Campus\",\"Curso\",\"Modalidade\",\"Presencial/Distância\",\"Nível\",\"Etnia\",\"Situação\"]\n",
    "df = onehotencoder(df, colunas_categoricas)\n",
    "df.to_csv('./data/encoded_data.csv', index=False)"
   ]
  },
  {
   "cell_type": "markdown",
   "metadata": {},
   "source": [
    "#### Aplicação de modelos de regressão"
   ]
  },
  {
   "cell_type": "code",
   "execution_count": 54,
   "metadata": {},
   "outputs": [
    {
     "name": "stdout",
     "output_type": "stream",
     "text": [
      "\n",
      "Avaliação do Modelo\n",
      "MSE médio: 0.14\n",
      "R2 médio: 0.07\n"
     ]
    }
   ],
   "source": [
    "from sklearn.linear_model import Ridge\n",
    "\n",
    "\n",
    "X = df.drop(columns=[\"Renda per Capita\"])\n",
    "y = df[\"Renda per Capita\"]\n",
    "\n",
    "X_train, X_test, y_train, y_test = train_test_split(X, y, test_size=0.2, random_state=42)\n",
    "\n",
    "scaler = StandardScaler()\n",
    "X_train_scaled = scaler.fit_transform(X_train)\n",
    "X_test_scaled = scaler.transform(X_test)\n",
    "\n",
    "kf = KFold(n_splits=5, shuffle=True, random_state=42)\n",
    "\n",
    "param_grid = {\n",
    "    'alpha': [0.01, 0.1, 1, 10], \n",
    "    'l1_ratio': [0.1, 0.5, 0.9]   \n",
    "}\n",
    "\n",
    "elasticnet_model = ElasticNet()\n",
    "\n",
    "grid_search = GridSearchCV(elasticnet_model, param_grid, cv=kf, scoring='neg_mean_squared_error')\n",
    "grid_search.fit(X_train_scaled, y_train)\n",
    "\n",
    "best_model = grid_search.best_estimator_\n",
    "\n",
    "mse_scores = cross_val_score(best_model, X_train_scaled, y_train, cv=kf, scoring='neg_mean_squared_error')\n",
    "r2_scores = cross_val_score(best_model, X_train_scaled, y_train, cv=kf, scoring='r2')\n",
    "\n",
    "mse_scores = -mse_scores\n",
    "\n",
    "mean_mse = np.mean(mse_scores)\n",
    "mean_r2 = np.mean(r2_scores)\n",
    "\n",
    "X_train, X_test, y_train, y_test = train_test_split(X, y, test_size=0.2, random_state=42)\n",
    "\n",
    "best_model.fit(X_train, y_train)\n",
    "\n",
    "y_pred = best_model.predict(X_test)\n",
    "\n",
    "print(\"\\nAvaliação do Modelo\")\n",
    "print(f\"MSE médio: {mean_mse:.2f}\")\n",
    "print(f\"R2 médio: {mean_r2:.2f}\")"
   ]
  },
  {
   "cell_type": "markdown",
   "metadata": {},
   "source": [
    "#### Plots e insights"
   ]
  },
  {
   "cell_type": "code",
   "execution_count": 53,
   "metadata": {},
   "outputs": [
    {
     "data": {
      "image/png": "[encoded data removed]",
      "text/plain": [
       "<Figure size 1000x600 with 1 Axes>"
      ]
     },
     "metadata": {},
     "output_type": "display_data"
    }
   ],
   "source": [
    "plt.figure(figsize=(10, 6))\n",
    "\n",
    "plt.scatter(y_test, y_pred, color=\"blue\", label=\"Previsões\", alpha=0.6)\n",
    "\n",
    "plt.plot([min(y_test), max(y_test)], [min(y_test), max(y_test)], color=\"red\", label=\"Ideal\")\n",
    "\n",
    "plt.xlabel(\"Valores Reais\")\n",
    "plt.ylabel(\"Previsões\")\n",
    "plt.title(\"ElasticNet - Comparação entre Valores Reais e Previsões\")\n",
    "\n",
    "plt.legend()\n",
    "\n",
    "plt.show()"
   ]
  }
 ],
 "metadata": {
  "kernelspec": {
   "display_name": "Python 3",
   "language": "python",
   "name": "python3"
  },
  "language_info": {
   "codemirror_mode": {
    "name": "ipython",
    "version": 3
   },
   "file_extension": ".py",
   "mimetype": "text/x-python",
   "name": "python",
   "nbconvert_exporter": "python",
   "pygments_lexer": "ipython3",
   "version": "3.12.0"
  }
 },
 "nbformat": 4,
 "nbformat_minor": 2
}
